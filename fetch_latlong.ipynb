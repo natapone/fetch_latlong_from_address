{
 "cells": [
  {
   "cell_type": "code",
   "execution_count": 32,
   "id": "f341646c",
   "metadata": {},
   "outputs": [],
   "source": [
    "import os\n",
    "import urllib\n",
    "import re\n",
    "import pandas as pd\n",
    "import time"
   ]
  },
  {
   "cell_type": "code",
   "execution_count": 83,
   "id": "48b1eea2",
   "metadata": {},
   "outputs": [],
   "source": [
    "address = \"คลินิกทันตกรรมเดอะเดนทัลสแคว์ 95/9  ถนนราชดำเนิน เพชรบุร เมืองเพชรบุรี คลองกระแชง\"\n",
    "\n",
    "def fetch_latlong_from_address(address):\n",
    "\n",
    "    address = urllib.parse.quote(address, safe='')\n",
    "\n",
    "    url = 'https://www.google.com/maps/search/' + address\n",
    "    curl_cmd = 'curl -L \"' + url + '\"' \n",
    "\n",
    "    print (curl_cmd)\n",
    "    \n",
    "    # extract lat, long\n",
    "    response = os.popen(curl_cmd).read()\n",
    "    \n",
    "#     p = re.compile(\"/@(\\d*\\.*\\d*),(\\d*\\.*\\d*).*/i\")\n",
    "    p = re.compile(\"\\?center=(\\d*\\.*\\d*)%2C(\\d*\\.*\\d*)\")\n",
    "    result = p.search(response)\n",
    "\n",
    "    if result:\n",
    "        lat = result.group(1)\n",
    "        long = result.group(2)\n",
    "    else:\n",
    "        lat = \"\"\n",
    "        long = \"\"\n",
    "    \n",
    "    return [lat, long]; \n",
    "    \n",
    "\n",
    "\n"
   ]
  },
  {
   "cell_type": "code",
   "execution_count": 33,
   "id": "2266b2cf",
   "metadata": {},
   "outputs": [],
   "source": [
    "\n",
    "df = pd.read_csv('import/hosp_data_All_Date_2022-04-28.csv')\n"
   ]
  },
  {
   "cell_type": "code",
   "execution_count": 85,
   "id": "41a3c32d",
   "metadata": {
    "scrolled": true
   },
   "outputs": [
    {
     "name": "stdout",
     "output_type": "stream",
     "text": [
      "คลินิกเฉพาะทางด้านเวชกรรมอายุรศาสตร์โรคไตศาลายา 131/2,131/3 นครปฐม พุทธมณฑล ศาลายา\n",
      "curl -L \"https://www.google.com/maps/search/%E0%B8%84%E0%B8%A5%E0%B8%B4%E0%B8%99%E0%B8%B4%E0%B8%81%E0%B9%80%E0%B8%89%E0%B8%9E%E0%B8%B2%E0%B8%B0%E0%B8%97%E0%B8%B2%E0%B8%87%E0%B8%94%E0%B9%89%E0%B8%B2%E0%B8%99%E0%B9%80%E0%B8%A7%E0%B8%8A%E0%B8%81%E0%B8%A3%E0%B8%A3%E0%B8%A1%E0%B8%AD%E0%B8%B2%E0%B8%A2%E0%B8%B8%E0%B8%A3%E0%B8%A8%E0%B8%B2%E0%B8%AA%E0%B8%95%E0%B8%A3%E0%B9%8C%E0%B9%82%E0%B8%A3%E0%B8%84%E0%B9%84%E0%B8%95%E0%B8%A8%E0%B8%B2%E0%B8%A5%E0%B8%B2%E0%B8%A2%E0%B8%B2%20131%2F2%2C131%2F3%20%E0%B8%99%E0%B8%84%E0%B8%A3%E0%B8%9B%E0%B8%90%E0%B8%A1%20%E0%B8%9E%E0%B8%B8%E0%B8%97%E0%B8%98%E0%B8%A1%E0%B8%93%E0%B8%91%E0%B8%A5%20%E0%B8%A8%E0%B8%B2%E0%B8%A5%E0%B8%B2%E0%B8%A2%E0%B8%B2\"\n"
     ]
    },
    {
     "name": "stderr",
     "output_type": "stream",
     "text": [
      "  % Total    % Received % Xferd  Average Speed   Time    Time     Time  Current\n",
      "                                 Dload  Upload   Total   Spent    Left  Speed\n",
      "100 81834    0 81834    0     0  78181      0 --:--:--  0:00:01 --:--:-- 78610\n",
      "  % Total    % Received % Xferd  Average Speed   Time    Time     Time  Current\n",
      "                                 Dload  Upload   Total   Spent    Left  Speed\n",
      "  0     0    0     0    0     0      0      0 --:--:-- --:--:-- --:--:--     0"
     ]
    },
    {
     "name": "stdout",
     "output_type": "stream",
     "text": [
      "['13.8018193', '100.3086788']\n",
      "คลินิกทันตกรรมเดอะเดนทัลสแคว์ 95/9  ถนนราชดำเนิน เพชรบุรี เมืองเพชรบุรี คลองกระแชง\n",
      "curl -L \"https://www.google.com/maps/search/%E0%B8%84%E0%B8%A5%E0%B8%B4%E0%B8%99%E0%B8%B4%E0%B8%81%E0%B8%97%E0%B8%B1%E0%B8%99%E0%B8%95%E0%B8%81%E0%B8%A3%E0%B8%A3%E0%B8%A1%E0%B9%80%E0%B8%94%E0%B8%AD%E0%B8%B0%E0%B9%80%E0%B8%94%E0%B8%99%E0%B8%97%E0%B8%B1%E0%B8%A5%E0%B8%AA%E0%B9%81%E0%B8%84%E0%B8%A7%E0%B9%8C%2095%2F9%20%20%E0%B8%96%E0%B8%99%E0%B8%99%E0%B8%A3%E0%B8%B2%E0%B8%8A%E0%B8%94%E0%B8%B3%E0%B9%80%E0%B8%99%E0%B8%B4%E0%B8%99%20%E0%B9%80%E0%B8%9E%E0%B8%8A%E0%B8%A3%E0%B8%9A%E0%B8%B8%E0%B8%A3%E0%B8%B5%20%E0%B9%80%E0%B8%A1%E0%B8%B7%E0%B8%AD%E0%B8%87%E0%B9%80%E0%B8%9E%E0%B8%8A%E0%B8%A3%E0%B8%9A%E0%B8%B8%E0%B8%A3%E0%B8%B5%20%E0%B8%84%E0%B8%A5%E0%B8%AD%E0%B8%87%E0%B8%81%E0%B8%A3%E0%B8%B0%E0%B9%81%E0%B8%8A%E0%B8%87\"\n"
     ]
    },
    {
     "name": "stderr",
     "output_type": "stream",
     "text": [
      "\r",
      "100  5926    0  5926    0     0   5897      0 --:--:--  0:00:01 --:--:--  5943\r",
      "100 79484    0 79484    0     0  74642      0 --:--:--  0:00:01 --:--:-- 75268\n",
      "  % Total    % Received % Xferd  Average Speed   Time    Time     Time  Current\n",
      "                                 Dload  Upload   Total   Spent    Left  Speed\n",
      "\r",
      "  0     0    0     0    0     0      0      0 --:--:-- --:--:-- --:--:--     0"
     ]
    },
    {
     "name": "stdout",
     "output_type": "stream",
     "text": [
      "['13.100511', '99.9440863']\n",
      "กนกคลินิกกายภาพบำบัด 30/312 อาคารกนกเฮลท์แคร์ ชั้น 3 ซอยงามวงศ์วาน 47 แยก 1-3 กรุงเทพมหานคร เขตหลักสี่ ทุ่งสองห้อง\n",
      "curl -L \"https://www.google.com/maps/search/%E0%B8%81%E0%B8%99%E0%B8%81%E0%B8%84%E0%B8%A5%E0%B8%B4%E0%B8%99%E0%B8%B4%E0%B8%81%E0%B8%81%E0%B8%B2%E0%B8%A2%E0%B8%A0%E0%B8%B2%E0%B8%9E%E0%B8%9A%E0%B8%B3%E0%B8%9A%E0%B8%B1%E0%B8%94%2030%2F312%20%E0%B8%AD%E0%B8%B2%E0%B8%84%E0%B8%B2%E0%B8%A3%E0%B8%81%E0%B8%99%E0%B8%81%E0%B9%80%E0%B8%AE%E0%B8%A5%E0%B8%97%E0%B9%8C%E0%B9%81%E0%B8%84%E0%B8%A3%E0%B9%8C%20%E0%B8%8A%E0%B8%B1%E0%B9%89%E0%B8%99%203%20%E0%B8%8B%E0%B8%AD%E0%B8%A2%E0%B8%87%E0%B8%B2%E0%B8%A1%E0%B8%A7%E0%B8%87%E0%B8%A8%E0%B9%8C%E0%B8%A7%E0%B8%B2%E0%B8%99%2047%20%E0%B9%81%E0%B8%A2%E0%B8%81%201-3%20%E0%B8%81%E0%B8%A3%E0%B8%B8%E0%B8%87%E0%B9%80%E0%B8%97%E0%B8%9E%E0%B8%A1%E0%B8%AB%E0%B8%B2%E0%B8%99%E0%B8%84%E0%B8%A3%20%E0%B9%80%E0%B8%82%E0%B8%95%E0%B8%AB%E0%B8%A5%E0%B8%B1%E0%B8%81%E0%B8%AA%E0%B8%B5%E0%B9%88%20%E0%B8%97%E0%B8%B8%E0%B9%88%E0%B8%87%E0%B8%AA%E0%B8%AD%E0%B8%87%E0%B8%AB%E0%B9%89%E0%B8%AD%E0%B8%87\"\n"
     ]
    },
    {
     "name": "stderr",
     "output_type": "stream",
     "text": [
      "\r",
      "100  4739    0  4739    0     0   4303      0 --:--:--  0:00:01 --:--:--  4343\r",
      "100  101k    0  101k    0     0  87978      0 --:--:--  0:00:01 --:--:-- 88714\n",
      "  % Total    % Received % Xferd  Average Speed   Time    Time     Time  Current\n",
      "                                 Dload  Upload   Total   Spent    Left  Speed\n",
      "\r",
      "  0     0    0     0    0     0      0      0 --:--:-- --:--:-- --:--:--     0"
     ]
    },
    {
     "name": "stdout",
     "output_type": "stream",
     "text": [
      "['13.85763115', '100.55200185']\n",
      "คลินิกทันตกรรมหมอหมีรักษ์ฟัน 317/9  ถนนดำเนินเกษม เพชรบุรี เมืองเพชรบุรี คลองกระแชง\n",
      "curl -L \"https://www.google.com/maps/search/%E0%B8%84%E0%B8%A5%E0%B8%B4%E0%B8%99%E0%B8%B4%E0%B8%81%E0%B8%97%E0%B8%B1%E0%B8%99%E0%B8%95%E0%B8%81%E0%B8%A3%E0%B8%A3%E0%B8%A1%E0%B8%AB%E0%B8%A1%E0%B8%AD%E0%B8%AB%E0%B8%A1%E0%B8%B5%E0%B8%A3%E0%B8%B1%E0%B8%81%E0%B8%A9%E0%B9%8C%E0%B8%9F%E0%B8%B1%E0%B8%99%20317%2F9%20%20%E0%B8%96%E0%B8%99%E0%B8%99%E0%B8%94%E0%B8%B3%E0%B9%80%E0%B8%99%E0%B8%B4%E0%B8%99%E0%B9%80%E0%B8%81%E0%B8%A9%E0%B8%A1%20%E0%B9%80%E0%B8%9E%E0%B8%8A%E0%B8%A3%E0%B8%9A%E0%B8%B8%E0%B8%A3%E0%B8%B5%20%E0%B9%80%E0%B8%A1%E0%B8%B7%E0%B8%AD%E0%B8%87%E0%B9%80%E0%B8%9E%E0%B8%8A%E0%B8%A3%E0%B8%9A%E0%B8%B8%E0%B8%A3%E0%B8%B5%20%E0%B8%84%E0%B8%A5%E0%B8%AD%E0%B8%87%E0%B8%81%E0%B8%A3%E0%B8%B0%E0%B9%81%E0%B8%8A%E0%B8%87\"\n"
     ]
    },
    {
     "name": "stderr",
     "output_type": "stream",
     "text": [
      "\r",
      "100  5926    0  5926    0     0   6636      0 --:--:-- --:--:-- --:--:--  6703\r",
      "100  114k    0  114k    0     0   118k      0 --:--:-- --:--:-- --:--:--  119k\n",
      "  % Total    % Received % Xferd  Average Speed   Time    Time     Time  Current\n",
      "                                 Dload  Upload   Total   Spent    Left  Speed\n",
      "\r",
      "  0     0    0     0    0     0      0      0 --:--:-- --:--:-- --:--:--     0"
     ]
    },
    {
     "name": "stdout",
     "output_type": "stream",
     "text": [
      "['13.1003572', '99.947118']\n",
      "คลินิกเวชกรรมตลาดปัฐวิกรณ์ 106/267 ชั้น 1  กรุงเทพมหานคร เขตบึงกุ่ม คลองกุ่ม\n",
      "curl -L \"https://www.google.com/maps/search/%E0%B8%84%E0%B8%A5%E0%B8%B4%E0%B8%99%E0%B8%B4%E0%B8%81%E0%B9%80%E0%B8%A7%E0%B8%8A%E0%B8%81%E0%B8%A3%E0%B8%A3%E0%B8%A1%E0%B8%95%E0%B8%A5%E0%B8%B2%E0%B8%94%E0%B8%9B%E0%B8%B1%E0%B8%90%E0%B8%A7%E0%B8%B4%E0%B8%81%E0%B8%A3%E0%B8%93%E0%B9%8C%20106%2F267%20%E0%B8%8A%E0%B8%B1%E0%B9%89%E0%B8%99%201%20%20%E0%B8%81%E0%B8%A3%E0%B8%B8%E0%B8%87%E0%B9%80%E0%B8%97%E0%B8%9E%E0%B8%A1%E0%B8%AB%E0%B8%B2%E0%B8%99%E0%B8%84%E0%B8%A3%20%E0%B9%80%E0%B8%82%E0%B8%95%E0%B8%9A%E0%B8%B6%E0%B8%87%E0%B8%81%E0%B8%B8%E0%B9%88%E0%B8%A1%20%E0%B8%84%E0%B8%A5%E0%B8%AD%E0%B8%87%E0%B8%81%E0%B8%B8%E0%B9%88%E0%B8%A1\"\n",
      "['13.8109172', '100.6547407']\n"
     ]
    },
    {
     "name": "stderr",
     "output_type": "stream",
     "text": [
      "\r",
      "100  5926    0  5926    0     0   6572      0 --:--:-- --:--:-- --:--:--  6643\r",
      "100  147k    0  147k    0     0   147k      0 --:--:--  0:00:01 --:--:--  148k\n"
     ]
    }
   ],
   "source": [
    "address_list = df.head(5)\n",
    "\n",
    "def clean_code(txt):\n",
    "    s = txt.split(\"-\")\n",
    "    return s[1]\n",
    "    \n",
    "\n",
    "for index, row in address_list.iterrows():\n",
    "    province = row[\"รหัสจังหวัด\"]\n",
    "    province = clean_code(province)\n",
    "    \n",
    "    amper = row[\"รหัสอำเภอ\"]\n",
    "    amper = clean_code(amper)\n",
    "    \n",
    "    tambon = row[\"รหัสตำบล\"]\n",
    "    tambon = clean_code(tambon)\n",
    "    \n",
    "    address = row[\"ชื่อ\"] + \" \" + row[\"ที่อยู่\"] + \" \" + province + \" \" + amper + \" \" + tambon\n",
    "    \n",
    "    print(address)\n",
    "    latlong = fetch_latlong_from_address(address)\n",
    "    print(latlong)\n",
    "#     print(address + \" => \" + latlong[0] + \",\" + latlong[1] )\n",
    "#     time.sleep(10)\n",
    "\n"
   ]
  },
  {
   "cell_type": "code",
   "execution_count": 41,
   "id": "3e85cdd9",
   "metadata": {},
   "outputs": [
    {
     "name": "stdout",
     "output_type": "stream",
     "text": [
      "curl -L \"https://www.google.com/maps/search/%E0%B8%84%E0%B8%A5%E0%B8%B4%E0%B8%99%E0%B8%B4%E0%B8%81%E0%B9%80%E0%B8%89%E0%B8%9E%E0%B8%B2%E0%B8%B0%E0%B8%97%E0%B8%B2%E0%B8%87%E0%B8%94%E0%B9%89%E0%B8%B2%E0%B8%99%E0%B9%80%E0%B8%A7%E0%B8%8A%E0%B8%81%E0%B8%A3%E0%B8%A3%E0%B8%A1%E0%B8%AD%E0%B8%B2%E0%B8%A2%E0%B8%B8%E0%B8%A3%E0%B8%A8%E0%B8%B2%E0%B8%AA%E0%B8%95%E0%B8%A3%E0%B9%8C%E0%B9%82%E0%B8%A3%E0%B8%84%E0%B9%84%E0%B8%95%E0%B8%A8%E0%B8%B2%E0%B8%A5%E0%B8%B2%E0%B8%A2%E0%B8%B2%20%E0%B8%99%E0%B8%84%E0%B8%A3%E0%B8%9B%E0%B8%90%E0%B8%A1%20%E0%B8%9E%E0%B8%B8%E0%B8%97%E0%B8%98%E0%B8%A1%E0%B8%93%E0%B8%91%E0%B8%A5%20%E0%B8%A8%E0%B8%B2%E0%B8%A5%E0%B8%B2%E0%B8%A2%E0%B8%B2\"\n"
     ]
    },
    {
     "name": "stderr",
     "output_type": "stream",
     "text": [
      "  % Total    % Received % Xferd  Average Speed   Time    Time     Time  Current\n",
      "                                 Dload  Upload   Total   Spent    Left  Speed\n",
      "100  329k    0  329k    0     0   276k      0 --:--:--  0:00:01 --:--:--  278k\n"
     ]
    }
   ],
   "source": [
    "address = \"คลินิกเฉพาะทางด้านเวชกรรมอายุรศาสตร์โรคไตศาลายา 131/2,131/3 นครปฐม พุทธมณฑล ศาลายา\"\n",
    "address = \"คลินิกเฉพาะทางด้านเวชกรรมอายุรศาสตร์โรคไตศาลายา นครปฐม พุทธมณฑล ศาลายา\"\n",
    "address = urllib.parse.quote(address, safe='')\n",
    "\n",
    "url = 'https://www.google.com/maps/search/' + address\n",
    "curl_cmd = 'curl -L \"' + url + '\"' \n",
    "\n",
    "print (curl_cmd)\n",
    "\n",
    "# extract lat, long\n",
    "response = os.popen(curl_cmd).read()\n",
    "\n"
   ]
  },
  {
   "cell_type": "code",
   "execution_count": 82,
   "id": "923eec23",
   "metadata": {},
   "outputs": [
    {
     "name": "stdout",
     "output_type": "stream",
     "text": [
      "13.100511\n",
      "99.9440863\n"
     ]
    }
   ],
   "source": [
    "\n",
    "response = \"?center=13.100511%2C99.9440863&amp;\"\n",
    "# p = re.compile(\"/@(\\d*\\.*\\d*),(\\d*\\.*\\d*).*/i\")\n",
    "p = re.compile(\"\\?center=(\\d*\\.*\\d*)%2C(\\d*\\.*\\d*)\")\n",
    "result = p.search(response)\n",
    "\n",
    "if result:\n",
    "    lat = result.group(1)\n",
    "    long = result.group(2)\n",
    "else:\n",
    "    lat = \"x\"\n",
    "    long = \"x\"\n",
    "    \n",
    "print(lat)\n",
    "print(long)"
   ]
  },
  {
   "cell_type": "code",
   "execution_count": 68,
   "id": "54c0ad6f",
   "metadata": {},
   "outputs": [
    {
     "name": "stdout",
     "output_type": "stream",
     "text": [
      "None\n"
     ]
    }
   ],
   "source": [
    "print(result)"
   ]
  },
  {
   "cell_type": "code",
   "execution_count": 86,
   "id": "eb97be6f",
   "metadata": {},
   "outputs": [],
   "source": [
    "df = pd.read_csv('import/hosp_data_All_Date_2022-04-28.csv')\n",
    "address_list = df.head(5)"
   ]
  },
  {
   "cell_type": "code",
   "execution_count": 87,
   "id": "bd7c61e9",
   "metadata": {},
   "outputs": [
    {
     "data": {
      "text/html": [
       "<div>\n",
       "<style scoped>\n",
       "    .dataframe tbody tr th:only-of-type {\n",
       "        vertical-align: middle;\n",
       "    }\n",
       "\n",
       "    .dataframe tbody tr th {\n",
       "        vertical-align: top;\n",
       "    }\n",
       "\n",
       "    .dataframe thead th {\n",
       "        text-align: right;\n",
       "    }\n",
       "</style>\n",
       "<table border=\"1\" class=\"dataframe\">\n",
       "  <thead>\n",
       "    <tr style=\"text-align: right;\">\n",
       "      <th></th>\n",
       "      <th>รหัส 9 หลัก</th>\n",
       "      <th>ชื่อ</th>\n",
       "      <th>ประเภทหน่วยงาน</th>\n",
       "      <th>กระทรวง</th>\n",
       "      <th>กรม</th>\n",
       "      <th>bed-เตียงจริง (อ้างอิงข้อมูลจาก กบรส.)</th>\n",
       "      <th>สถานะการเปิดบริการ</th>\n",
       "      <th>ที่อยู่</th>\n",
       "      <th>รหัสจังหวัด</th>\n",
       "      <th>รหัสอำเภอ</th>\n",
       "      <th>...</th>\n",
       "      <th>วันที่กำหนดรหัส</th>\n",
       "      <th>ระดับบริการ</th>\n",
       "      <th>ประเภทบริการ</th>\n",
       "      <th>หมายเหตุ</th>\n",
       "      <th>วันที่เปิดบริการ</th>\n",
       "      <th>วันที่ปิดบริการ</th>\n",
       "      <th>วันที่ยกเลิกรหัส</th>\n",
       "      <th>ระดับขีดความสามารถ</th>\n",
       "      <th>เขตบริการ</th>\n",
       "      <th>bed_spd</th>\n",
       "    </tr>\n",
       "  </thead>\n",
       "  <tbody>\n",
       "    <tr>\n",
       "      <th>0</th>\n",
       "      <td>4134000</td>\n",
       "      <td>คลินิกเฉพาะทางด้านเวชกรรมอายุรศาสตร์โรคไตศาลายา</td>\n",
       "      <td>16-คลินิกเอกชน</td>\n",
       "      <td>29000-เอกชน</td>\n",
       "      <td>ไม่มีข้อมูล</td>\n",
       "      <td>-</td>\n",
       "      <td>01-เปิดดำเนินการ</td>\n",
       "      <td>131/2,131/3</td>\n",
       "      <td>73-นครปฐม</td>\n",
       "      <td>07-พุทธมณฑล</td>\n",
       "      <td>...</td>\n",
       "      <td>2017-06-01</td>\n",
       "      <td>-</td>\n",
       "      <td>S-</td>\n",
       "      <td>-</td>\n",
       "      <td>2017-05-04</td>\n",
       "      <td>-</td>\n",
       "      <td>-</td>\n",
       "      <td>-</td>\n",
       "      <td>5</td>\n",
       "      <td>-</td>\n",
       "    </tr>\n",
       "    <tr>\n",
       "      <th>1</th>\n",
       "      <td>3522500</td>\n",
       "      <td>คลินิกทันตกรรมเดอะเดนทัลสแคว์</td>\n",
       "      <td>16-คลินิกเอกชน</td>\n",
       "      <td>29000-เอกชน</td>\n",
       "      <td>ไม่มีข้อมูล</td>\n",
       "      <td>-</td>\n",
       "      <td>01-เปิดดำเนินการ</td>\n",
       "      <td>95/9  ถนนราชดำเนิน</td>\n",
       "      <td>76-เพชรบุรี</td>\n",
       "      <td>01-เมืองเพชรบุรี</td>\n",
       "      <td>...</td>\n",
       "      <td>2017-02-06</td>\n",
       "      <td>-</td>\n",
       "      <td>S-</td>\n",
       "      <td>-</td>\n",
       "      <td>-</td>\n",
       "      <td>-</td>\n",
       "      <td>-</td>\n",
       "      <td>-</td>\n",
       "      <td>5</td>\n",
       "      <td>-</td>\n",
       "    </tr>\n",
       "    <tr>\n",
       "      <th>2</th>\n",
       "      <td>4200400</td>\n",
       "      <td>กนกคลินิกกายภาพบำบัด</td>\n",
       "      <td>16-คลินิกเอกชน</td>\n",
       "      <td>29000-เอกชน</td>\n",
       "      <td>ไม่มีข้อมูล</td>\n",
       "      <td>-</td>\n",
       "      <td>01-เปิดดำเนินการ</td>\n",
       "      <td>30/312 อาคารกนกเฮลท์แคร์ ชั้น 3 ซอยงามวงศ์วาน ...</td>\n",
       "      <td>10-กรุงเทพมหานคร</td>\n",
       "      <td>41-เขตหลักสี่</td>\n",
       "      <td>...</td>\n",
       "      <td>2020-11-27</td>\n",
       "      <td>-</td>\n",
       "      <td>on-</td>\n",
       "      <td>-</td>\n",
       "      <td>2020-06-19</td>\n",
       "      <td>-</td>\n",
       "      <td>-</td>\n",
       "      <td>-</td>\n",
       "      <td>13</td>\n",
       "      <td>-</td>\n",
       "    </tr>\n",
       "    <tr>\n",
       "      <th>3</th>\n",
       "      <td>3522200</td>\n",
       "      <td>คลินิกทันตกรรมหมอหมีรักษ์ฟัน</td>\n",
       "      <td>16-คลินิกเอกชน</td>\n",
       "      <td>29000-เอกชน</td>\n",
       "      <td>ไม่มีข้อมูล</td>\n",
       "      <td>-</td>\n",
       "      <td>01-เปิดดำเนินการ</td>\n",
       "      <td>317/9  ถนนดำเนินเกษม</td>\n",
       "      <td>76-เพชรบุรี</td>\n",
       "      <td>01-เมืองเพชรบุรี</td>\n",
       "      <td>...</td>\n",
       "      <td>2017-02-06</td>\n",
       "      <td>-</td>\n",
       "      <td>S-</td>\n",
       "      <td>-</td>\n",
       "      <td>-</td>\n",
       "      <td>-</td>\n",
       "      <td>-</td>\n",
       "      <td>-</td>\n",
       "      <td>5</td>\n",
       "      <td>-</td>\n",
       "    </tr>\n",
       "    <tr>\n",
       "      <th>4</th>\n",
       "      <td>4200100</td>\n",
       "      <td>คลินิกเวชกรรมตลาดปัฐวิกรณ์</td>\n",
       "      <td>16-คลินิกเอกชน</td>\n",
       "      <td>29000-เอกชน</td>\n",
       "      <td>ไม่มีข้อมูล</td>\n",
       "      <td>-</td>\n",
       "      <td>01-เปิดดำเนินการ</td>\n",
       "      <td>106/267 ชั้น 1</td>\n",
       "      <td>10-กรุงเทพมหานคร</td>\n",
       "      <td>27-เขตบึงกุ่ม</td>\n",
       "      <td>...</td>\n",
       "      <td>2020-11-26</td>\n",
       "      <td>-</td>\n",
       "      <td>on-</td>\n",
       "      <td>-</td>\n",
       "      <td>-</td>\n",
       "      <td>-</td>\n",
       "      <td>-</td>\n",
       "      <td>-</td>\n",
       "      <td>13</td>\n",
       "      <td>-</td>\n",
       "    </tr>\n",
       "  </tbody>\n",
       "</table>\n",
       "<p>5 rows × 28 columns</p>\n",
       "</div>"
      ],
      "text/plain": [
       "   รหัส 9 หลัก                                              ชื่อ  \\\n",
       "0       4134000  คลินิกเฉพาะทางด้านเวชกรรมอายุรศาสตร์โรคไตศาลายา   \n",
       "1       3522500                    คลินิกทันตกรรมเดอะเดนทัลสแคว์   \n",
       "2       4200400                             กนกคลินิกกายภาพบำบัด   \n",
       "3       3522200                     คลินิกทันตกรรมหมอหมีรักษ์ฟัน   \n",
       "4       4200100                       คลินิกเวชกรรมตลาดปัฐวิกรณ์   \n",
       "\n",
       "   ประเภทหน่วยงาน      กระทรวง          กรม  \\\n",
       "0  16-คลินิกเอกชน  29000-เอกชน  ไม่มีข้อมูล   \n",
       "1  16-คลินิกเอกชน  29000-เอกชน  ไม่มีข้อมูล   \n",
       "2  16-คลินิกเอกชน  29000-เอกชน  ไม่มีข้อมูล   \n",
       "3  16-คลินิกเอกชน  29000-เอกชน  ไม่มีข้อมูล   \n",
       "4  16-คลินิกเอกชน  29000-เอกชน  ไม่มีข้อมูล   \n",
       "\n",
       "  bed-เตียงจริง (อ้างอิงข้อมูลจาก กบรส.) สถานะการเปิดบริการ  \\\n",
       "0                                      -   01-เปิดดำเนินการ   \n",
       "1                                      -   01-เปิดดำเนินการ   \n",
       "2                                      -   01-เปิดดำเนินการ   \n",
       "3                                      -   01-เปิดดำเนินการ   \n",
       "4                                      -   01-เปิดดำเนินการ   \n",
       "\n",
       "                                             ที่อยู่       รหัสจังหวัด  \\\n",
       "0                                        131/2,131/3         73-นครปฐม   \n",
       "1                                 95/9  ถนนราชดำเนิน       76-เพชรบุรี   \n",
       "2  30/312 อาคารกนกเฮลท์แคร์ ชั้น 3 ซอยงามวงศ์วาน ...  10-กรุงเทพมหานคร   \n",
       "3                               317/9  ถนนดำเนินเกษม       76-เพชรบุรี   \n",
       "4                                    106/267 ชั้น 1   10-กรุงเทพมหานคร   \n",
       "\n",
       "          รหัสอำเภอ  ... วันที่กำหนดรหัส ระดับบริการ ประเภทบริการ หมายเหตุ  \\\n",
       "0       07-พุทธมณฑล  ...      2017-06-01           -           S-        -   \n",
       "1  01-เมืองเพชรบุรี  ...      2017-02-06           -           S-        -   \n",
       "2     41-เขตหลักสี่  ...      2020-11-27           -          on-        -   \n",
       "3  01-เมืองเพชรบุรี  ...      2017-02-06           -           S-        -   \n",
       "4     27-เขตบึงกุ่ม  ...      2020-11-26           -          on-        -   \n",
       "\n",
       "  วันที่เปิดบริการ วันที่ปิดบริการ   วันที่ยกเลิกรหัส ระดับขีดความสามารถ  \\\n",
       "0       2017-05-04                -                 -                  -   \n",
       "1                -                -                 -                  -   \n",
       "2       2020-06-19                -                 -                  -   \n",
       "3                -                -                 -                  -   \n",
       "4                -                -                 -                  -   \n",
       "\n",
       "  เขตบริการ bed_spd  \n",
       "0         5       -  \n",
       "1         5       -  \n",
       "2        13       -  \n",
       "3         5       -  \n",
       "4        13       -  \n",
       "\n",
       "[5 rows x 28 columns]"
      ]
     },
     "execution_count": 87,
     "metadata": {},
     "output_type": "execute_result"
    }
   ],
   "source": [
    "address_list"
   ]
  },
  {
   "cell_type": "code",
   "execution_count": null,
   "id": "c3e3196d",
   "metadata": {},
   "outputs": [],
   "source": []
  }
 ],
 "metadata": {
  "kernelspec": {
   "display_name": "Python 3 (ipykernel)",
   "language": "python",
   "name": "python3"
  },
  "language_info": {
   "codemirror_mode": {
    "name": "ipython",
    "version": 3
   },
   "file_extension": ".py",
   "mimetype": "text/x-python",
   "name": "python",
   "nbconvert_exporter": "python",
   "pygments_lexer": "ipython3",
   "version": "3.9.12"
  }
 },
 "nbformat": 4,
 "nbformat_minor": 5
}
